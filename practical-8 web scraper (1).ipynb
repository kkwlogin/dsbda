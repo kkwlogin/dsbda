{
 "cells": [
  {
   "cell_type": "code",
   "execution_count": 2,
   "id": "6160a143-5a59-4de2-8074-2e334d0f5c33",
   "metadata": {},
   "outputs": [
    {
     "name": "stdout",
     "output_type": "stream",
     "text": [
      "Defaulting to user installation because normal site-packages is not writeableNote: you may need to restart the kernel to use updated packages.\n"
     ]
    },
    {
     "name": "stderr",
     "output_type": "stream",
     "text": [
      "\n",
      "[notice] A new release of pip is available: 24.2 -> 25.1.1\n",
      "[notice] To update, run: python.exe -m pip install --upgrade pip\n"
     ]
    },
    {
     "name": "stdout",
     "output_type": "stream",
     "text": [
      "\n",
      "Requirement already satisfied: google_play_scraper in c:\\users\\91992\\appdata\\roaming\\python\\python312\\site-packages (1.2.7)\n"
     ]
    }
   ],
   "source": [
    "pip install google_play_scraper"
   ]
  },
  {
   "cell_type": "code",
   "execution_count": 5,
   "id": "adc8d70f-e80c-425c-a4e1-2b1b4aed3abb",
   "metadata": {},
   "outputs": [],
   "source": [
    "from google_play_scraper import reviews, Sort\n",
    "import pandas as pd"
   ]
  },
  {
   "cell_type": "code",
   "execution_count": 6,
   "id": "19008fcd-d05f-4cf8-93db-c37f8062d1ea",
   "metadata": {},
   "outputs": [
    {
     "name": "stdin",
     "output_type": "stream",
     "text": [
      "Enter Package Name com.whatsapp\n"
     ]
    }
   ],
   "source": [
    "app = input(\"Enter Package Name\")"
   ]
  },
  {
   "cell_type": "code",
   "execution_count": 7,
   "id": "9103e137-8b5b-4fbf-b95f-33eb15bca0da",
   "metadata": {},
   "outputs": [],
   "source": [
    "data,_ = reviews(app, count=100)"
   ]
  },
  {
   "cell_type": "code",
   "execution_count": 8,
   "id": "cbef0228-3ba2-4ab7-a2a0-061e46fe5da3",
   "metadata": {},
   "outputs": [
    {
     "name": "stdout",
     "output_type": "stream",
     "text": [
      "100\n"
     ]
    }
   ],
   "source": [
    "print(len(data))"
   ]
  },
  {
   "cell_type": "code",
   "execution_count": 9,
   "id": "b4f865f9-9809-493f-8987-76b2593d2543",
   "metadata": {},
   "outputs": [
    {
     "name": "stdout",
     "output_type": "stream",
     "text": [
      "{'reviewId': '361ee2f9-6e62-466c-a0f7-e5364c4dac98', 'userName': 'Benjamin Emekalam', 'userImage': 'https://play-lh.googleusercontent.com/a/ACg8ocJ_F62VnzyGRc2bcBF13BdHZXKHXFmsjrPgYktE9PanSh9bDQ=mo', 'content': 'Laos.03/6/2025', 'score': 5, 'thumbsUpCount': 0, 'reviewCreatedVersion': '2.25.16.82', 'at': datetime.datetime(2025, 6, 4, 1, 27, 48), 'replyContent': None, 'repliedAt': None, 'appVersion': '2.25.16.82'}\n"
     ]
    }
   ],
   "source": [
    "print(data[0])"
   ]
  },
  {
   "cell_type": "code",
   "execution_count": 10,
   "id": "7681fea4-f413-4af1-97e9-9cde03bda349",
   "metadata": {},
   "outputs": [],
   "source": [
    "df = pd.DataFrame(data)[['userName','score', 'content' , 'at']]\n",
    "df.columns = ['Customer Name', 'Rating', 'Review', 'Date']"
   ]
  },
  {
   "cell_type": "code",
   "execution_count": 11,
   "id": "eadb69d6-e917-4805-b6aa-97a0eec0d289",
   "metadata": {},
   "outputs": [],
   "source": [
    "df['Tag'] = df['Rating'].apply(lambda x: 'positive' if x>=4 else 'Neutral' if x==3 else 'Negative')"
   ]
  },
  {
   "cell_type": "code",
   "execution_count": 12,
   "id": "4595158a-5db9-4622-9738-b135989a6659",
   "metadata": {},
   "outputs": [
    {
     "data": {
      "text/html": [
       "<div>\n",
       "<style scoped>\n",
       "    .dataframe tbody tr th:only-of-type {\n",
       "        vertical-align: middle;\n",
       "    }\n",
       "\n",
       "    .dataframe tbody tr th {\n",
       "        vertical-align: top;\n",
       "    }\n",
       "\n",
       "    .dataframe thead th {\n",
       "        text-align: right;\n",
       "    }\n",
       "</style>\n",
       "<table border=\"1\" class=\"dataframe\">\n",
       "  <thead>\n",
       "    <tr style=\"text-align: right;\">\n",
       "      <th></th>\n",
       "      <th>Customer Name</th>\n",
       "      <th>Rating</th>\n",
       "      <th>Review</th>\n",
       "      <th>Date</th>\n",
       "      <th>Tag</th>\n",
       "    </tr>\n",
       "  </thead>\n",
       "  <tbody>\n",
       "    <tr>\n",
       "      <th>0</th>\n",
       "      <td>Benjamin Emekalam</td>\n",
       "      <td>5</td>\n",
       "      <td>Laos.03/6/2025</td>\n",
       "      <td>2025-06-04 01:27:48</td>\n",
       "      <td>positive</td>\n",
       "    </tr>\n",
       "    <tr>\n",
       "      <th>1</th>\n",
       "      <td>Alex Malawo</td>\n",
       "      <td>5</td>\n",
       "      <td>Nice app</td>\n",
       "      <td>2025-06-04 01:26:58</td>\n",
       "      <td>positive</td>\n",
       "    </tr>\n",
       "    <tr>\n",
       "      <th>2</th>\n",
       "      <td>Daniels Njobvu</td>\n",
       "      <td>5</td>\n",
       "      <td>Very ammazing app</td>\n",
       "      <td>2025-06-04 01:25:37</td>\n",
       "      <td>positive</td>\n",
       "    </tr>\n",
       "    <tr>\n",
       "      <th>3</th>\n",
       "      <td>James Phiri</td>\n",
       "      <td>1</td>\n",
       "      <td>trying to download but it's refusing</td>\n",
       "      <td>2025-06-04 01:24:56</td>\n",
       "      <td>Negative</td>\n",
       "    </tr>\n",
       "    <tr>\n",
       "      <th>4</th>\n",
       "      <td>Umar Boda</td>\n",
       "      <td>5</td>\n",
       "      <td>my whatsapp is not longer please help me</td>\n",
       "      <td>2025-06-04 01:24:55</td>\n",
       "      <td>positive</td>\n",
       "    </tr>\n",
       "    <tr>\n",
       "      <th>...</th>\n",
       "      <td>...</td>\n",
       "      <td>...</td>\n",
       "      <td>...</td>\n",
       "      <td>...</td>\n",
       "      <td>...</td>\n",
       "    </tr>\n",
       "    <tr>\n",
       "      <th>95</th>\n",
       "      <td>Abraham Sesay</td>\n",
       "      <td>1</td>\n",
       "      <td>Very smart, hard working, Brave &amp; Never giving up</td>\n",
       "      <td>2025-06-04 00:27:26</td>\n",
       "      <td>Negative</td>\n",
       "    </tr>\n",
       "    <tr>\n",
       "      <th>96</th>\n",
       "      <td>Mazwi Mncube</td>\n",
       "      <td>1</td>\n",
       "      <td>I can't login to whatsApp</td>\n",
       "      <td>2025-06-04 00:27:22</td>\n",
       "      <td>Negative</td>\n",
       "    </tr>\n",
       "    <tr>\n",
       "      <th>97</th>\n",
       "      <td>Odunayo Ogunmefun</td>\n",
       "      <td>1</td>\n",
       "      <td>this app is not even working. I came here from...</td>\n",
       "      <td>2025-06-04 00:26:42</td>\n",
       "      <td>Negative</td>\n",
       "    </tr>\n",
       "    <tr>\n",
       "      <th>98</th>\n",
       "      <td>Werner Van Wyk</td>\n",
       "      <td>5</td>\n",
       "      <td>awesome 👍👍👍👍👍👍👍👍👍😎😎😎😎😎😎😎 awesome 👍 videos awes...</td>\n",
       "      <td>2025-06-04 00:26:35</td>\n",
       "      <td>positive</td>\n",
       "    </tr>\n",
       "    <tr>\n",
       "      <th>99</th>\n",
       "      <td>Ronald Kasiita</td>\n",
       "      <td>5</td>\n",
       "      <td>Done</td>\n",
       "      <td>2025-06-04 00:25:11</td>\n",
       "      <td>positive</td>\n",
       "    </tr>\n",
       "  </tbody>\n",
       "</table>\n",
       "<p>100 rows × 5 columns</p>\n",
       "</div>"
      ],
      "text/plain": [
       "        Customer Name  Rating  \\\n",
       "0   Benjamin Emekalam       5   \n",
       "1         Alex Malawo       5   \n",
       "2      Daniels Njobvu       5   \n",
       "3         James Phiri       1   \n",
       "4           Umar Boda       5   \n",
       "..                ...     ...   \n",
       "95      Abraham Sesay       1   \n",
       "96       Mazwi Mncube       1   \n",
       "97  Odunayo Ogunmefun       1   \n",
       "98     Werner Van Wyk       5   \n",
       "99     Ronald Kasiita       5   \n",
       "\n",
       "                                               Review                Date  \\\n",
       "0                                      Laos.03/6/2025 2025-06-04 01:27:48   \n",
       "1                                            Nice app 2025-06-04 01:26:58   \n",
       "2                                   Very ammazing app 2025-06-04 01:25:37   \n",
       "3                trying to download but it's refusing 2025-06-04 01:24:56   \n",
       "4            my whatsapp is not longer please help me 2025-06-04 01:24:55   \n",
       "..                                                ...                 ...   \n",
       "95  Very smart, hard working, Brave & Never giving up 2025-06-04 00:27:26   \n",
       "96                          I can't login to whatsApp 2025-06-04 00:27:22   \n",
       "97  this app is not even working. I came here from... 2025-06-04 00:26:42   \n",
       "98  awesome 👍👍👍👍👍👍👍👍👍😎😎😎😎😎😎😎 awesome 👍 videos awes... 2025-06-04 00:26:35   \n",
       "99                                               Done 2025-06-04 00:25:11   \n",
       "\n",
       "         Tag  \n",
       "0   positive  \n",
       "1   positive  \n",
       "2   positive  \n",
       "3   Negative  \n",
       "4   positive  \n",
       "..       ...  \n",
       "95  Negative  \n",
       "96  Negative  \n",
       "97  Negative  \n",
       "98  positive  \n",
       "99  positive  \n",
       "\n",
       "[100 rows x 5 columns]"
      ]
     },
     "execution_count": 12,
     "metadata": {},
     "output_type": "execute_result"
    }
   ],
   "source": [
    "df"
   ]
  },
  {
   "cell_type": "code",
   "execution_count": null,
   "id": "a44fa366-6f1d-45f2-8191-9963da16f24f",
   "metadata": {},
   "outputs": [],
   "source": []
  }
 ],
 "metadata": {
  "kernelspec": {
   "display_name": "Python 3 (ipykernel)",
   "language": "python",
   "name": "python3"
  },
  "language_info": {
   "codemirror_mode": {
    "name": "ipython",
    "version": 3
   },
   "file_extension": ".py",
   "mimetype": "text/x-python",
   "name": "python",
   "nbconvert_exporter": "python",
   "pygments_lexer": "ipython3",
   "version": "3.12.7"
  }
 },
 "nbformat": 4,
 "nbformat_minor": 5
}
